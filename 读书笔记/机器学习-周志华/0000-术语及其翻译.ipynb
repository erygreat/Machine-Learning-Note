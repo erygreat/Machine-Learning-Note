{
 "cells": [
  {
   "cell_type": "markdown",
   "metadata": {},
   "source": [
    "- 机器学习：Machine Learning\n",
    "- 模型：Model\n",
    "- 学习算法：Learning Algorithm\n",
    "- 数据集：dataset\n",
    "- 样本：sample，数据集的每一条数据称为样本\n",
    "- 特征：feature(又可以称为 属性：attribute）\n",
    "- 特征值：feature value(又称为属性值：attribute value)\n",
    "- 特征空间: feature space（又可称为属性空间：attribute space,及多个特征张成的空间）\n",
    "- 特征向量：feature vector（特征空间的某一个向量）\n",
    "- 维数：dimensionality(特征个数，~~由于样本数是要求大于特征数的，因此维数==特征数~~)\n",
    "- 学习&训练： learning&training（都表示学习的意思）\n",
    "- 训练样本：training sample\n",
    "- 训练集：training set\n",
    "- 假设：hypothesis\n",
    "- 预测：prediction\n",
    "- 标记：label\n",
    "- 标记空间：label space\n",
    "- 分类：classification\n",
    "- 回归：regression（结果是连续的）\n",
    "- 二元分类：muiti-class classification\n",
    "- 正类：positive class（二元分类中的一类）\n",
    "- 反类：negative class（二元分类中的另外一类）\n",
    "- 多分类：multi-class classification\n",
    "- 测试：test\n",
    "- 测试样本：test cample\n",
    "- 聚类：clustering\n",
    "- 簇：cluster（聚类中的一个小“组”）\n",
    "- 监督学习：supervised learning（例如：分类和回归）\n",
    "- 无监督学习：unsupervised learning（例如：聚类）\n",
    "- 泛化：generalization（训练出来的样本要求其有泛化的能力）\n",
    "- 分布：distribution\n",
    "- 独立同分布：independent and identically distributed（简称i.i.d）\n",
    "\n",
    "- 归纳：induction\n",
    "- 演绎：deduction\n",
    "- 归纳学习：induction learning\n"
   ]
  },
  {
   "cell_type": "code",
   "execution_count": null,
   "metadata": {},
   "outputs": [],
   "source": []
  }
 ],
 "metadata": {
  "kernelspec": {
   "display_name": "Python 3",
   "language": "python",
   "name": "python3"
  },
  "language_info": {
   "codemirror_mode": {
    "name": "ipython",
    "version": 3
   },
   "file_extension": ".py",
   "mimetype": "text/x-python",
   "name": "python",
   "nbconvert_exporter": "python",
   "pygments_lexer": "ipython3",
   "version": "3.6.5"
  }
 },
 "nbformat": 4,
 "nbformat_minor": 2
}
